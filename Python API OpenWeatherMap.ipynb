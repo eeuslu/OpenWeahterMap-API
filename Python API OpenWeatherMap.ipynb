{
 "cells": [
  {
   "cell_type": "code",
   "execution_count": 17,
   "metadata": {},
   "outputs": [],
   "source": [
    "# Setup library\n",
    "import requests"
   ]
  },
  {
   "cell_type": "code",
   "execution_count": 18,
   "metadata": {},
   "outputs": [],
   "source": [
    "# Get api key\n",
    "api_key = \"e1b8c7307dc5d97e97471350f44f8ab7\""
   ]
  },
  {
   "cell_type": "code",
   "execution_count": 19,
   "metadata": {},
   "outputs": [
    {
     "name": "stdout",
     "output_type": "stream",
     "text": [
      "Name of City:Grünstadt\n"
     ]
    }
   ],
   "source": [
    "# initialize input field with city name\n",
    "city = input(\"Name of City:\")"
   ]
  },
  {
   "cell_type": "code",
   "execution_count": 20,
   "metadata": {},
   "outputs": [],
   "source": [
    "# get Open Weather API for City with corresponding api key\n",
    "url = f'https://api.openweathermap.org/data/2.5/weather?q={city}&appid={api_key}&units=metric'"
   ]
  },
  {
   "cell_type": "code",
   "execution_count": 21,
   "metadata": {},
   "outputs": [],
   "source": [
    "# get request from url in json format\n",
    "weather_data = requests.get(url).json()"
   ]
  },
  {
   "cell_type": "code",
   "execution_count": 23,
   "metadata": {},
   "outputs": [
    {
     "data": {
      "text/plain": [
       "{'coord': {'lon': 8.1681, 'lat': 49.5692},\n",
       " 'weather': [{'id': 804,\n",
       "   'main': 'Clouds',\n",
       "   'description': 'overcast clouds',\n",
       "   'icon': '04d'}],\n",
       " 'base': 'stations',\n",
       " 'main': {'temp': 12.42,\n",
       "  'feels_like': 11.86,\n",
       "  'temp_min': 10.77,\n",
       "  'temp_max': 14.3,\n",
       "  'pressure': 1026,\n",
       "  'humidity': 82,\n",
       "  'sea_level': 1026,\n",
       "  'grnd_level': 1005},\n",
       " 'visibility': 10000,\n",
       " 'wind': {'speed': 1.76, 'deg': 162, 'gust': 3.06},\n",
       " 'clouds': {'all': 94},\n",
       " 'dt': 1641045243,\n",
       " 'sys': {'type': 2,\n",
       "  'id': 45268,\n",
       "  'country': 'DE',\n",
       "  'sunrise': 1641021832,\n",
       "  'sunset': 1641051447},\n",
       " 'timezone': 3600,\n",
       " 'id': 2914101,\n",
       " 'name': 'Grünstadt',\n",
       " 'cod': 200}"
      ]
     },
     "execution_count": 23,
     "metadata": {},
     "output_type": "execute_result"
    }
   ],
   "source": [
    "# print and check weather_data\n",
    "weather_data"
   ]
  },
  {
   "cell_type": "code",
   "execution_count": 24,
   "metadata": {},
   "outputs": [],
   "source": [
    "# get the temperature from filled in city\n",
    "temp = weather_data['main']['temp']"
   ]
  },
  {
   "cell_type": "code",
   "execution_count": 25,
   "metadata": {},
   "outputs": [],
   "source": [
    "# get the humidity from filled in city\n",
    "humidity = weather_data['main']['humidity']"
   ]
  },
  {
   "cell_type": "code",
   "execution_count": 26,
   "metadata": {},
   "outputs": [
    {
     "name": "stdout",
     "output_type": "stream",
     "text": [
      "In Grünstadt the temperature is 12.42 degree celsius. Die humidity is 82%.\n"
     ]
    }
   ],
   "source": [
    "# print and check for correct output\n",
    "print(f'In {city} the temperature is {temp} degree celsius. Die humidity is {humidity}%.')"
   ]
  }
 ],
 "metadata": {
  "kernelspec": {
   "display_name": "Python 3.7.3 64-bit",
   "language": "python",
   "name": "python37364bita9af5e83940d41808b58c0f0d376c602"
  },
  "language_info": {
   "codemirror_mode": {
    "name": "ipython",
    "version": 3
   },
   "file_extension": ".py",
   "mimetype": "text/x-python",
   "name": "python",
   "nbconvert_exporter": "python",
   "pygments_lexer": "ipython3",
   "version": "3.7.3"
  }
 },
 "nbformat": 4,
 "nbformat_minor": 2
}
